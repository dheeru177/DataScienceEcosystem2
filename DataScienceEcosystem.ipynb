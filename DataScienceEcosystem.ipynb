{
 "cells": [
  {
   "cell_type": "markdown",
   "id": "3ca83b48-cff6-41c4-a375-f6edff39b0ba",
   "metadata": {},
   "source": [
    "# Data Science Tools and Ecosystem\r\n"
   ]
  },
  {
   "cell_type": "markdown",
   "id": "362d8b42-ff59-44f8-8122-1ed783f5e89c",
   "metadata": {},
   "source": [
    "In this notebook, Data Science Tools and Ecosystem are summarized.\n"
   ]
  },
  {
   "cell_type": "markdown",
   "id": "e7e123bc-1ef4-465f-b34c-9dde284d3ac7",
   "metadata": {},
   "source": [
    "In this notebook, Data Science Tools and Ecosystem are summarized.\n"
   ]
  },
  {
   "cell_type": "markdown",
   "id": "1e6efb3b-eca5-4b43-91c8-0b2b63239d87",
   "metadata": {},
   "source": [
    "In this notebook, Data Science Tools and Ecosystem are summarized.\n"
   ]
  },
  {
   "cell_type": "markdown",
   "id": "5f274b40-d74d-4029-90d5-56dec705c887",
   "metadata": {},
   "source": [
    "Some of the popular languages that Data Scientists use are:\r",
    "1. Python\r\n",
    "2. R\r\n",
    "3. SQL\r\n",
    "\n"
   ]
  },
  {
   "cell_type": "markdown",
   "id": "35da541e-7cf5-4e19-8095-5a32961b3ded",
   "metadata": {},
   "source": [
    "Some of the commonly used libraries used by Data Scientists include:\n",
    "1. Pandas\n",
    "2. NumPy\n",
    "3. Matplotlib\n"
   ]
  },
  {
   "cell_type": "markdown",
   "id": "e3b577c2-b470-48c6-ad89-a1e68d714d92",
   "metadata": {},
   "source": [
    " Data Science Tools\n",
    "\n",
    " Jupyter Notebook \n",
    " RStudio\n",
    " Visual Studio Code"
   ]
  },
  {
   "cell_type": "code",
   "execution_count": null,
   "id": "8a713b7b-b922-4b09-bf13-93d8518d51a5",
   "metadata": {},
   "outputs": [],
   "source": [
    "### Below are a few examples of evaluating arithmetic expressions in Python.\n"
   ]
  },
  {
   "cell_type": "code",
   "execution_count": 4,
   "id": "07340cc9-cb2e-46ce-9bdf-fea56905448f",
   "metadata": {},
   "outputs": [],
   "source": [
    "# This is a simple arithmetic expression to multiply then add integers\n",
    "\n"
   ]
  },
  {
   "cell_type": "code",
   "execution_count": 5,
   "id": "7ccaced3-6212-4dc9-b365-b34dad22a9e0",
   "metadata": {},
   "outputs": [
    {
     "data": {
      "text/plain": [
       "17"
      ]
     },
     "execution_count": 5,
     "metadata": {},
     "output_type": "execute_result"
    }
   ],
   "source": [
    "result = (3 * 4) + 5\n",
    "result\n",
    "\n"
   ]
  },
  {
   "cell_type": "code",
   "execution_count": null,
   "id": "3ef3a802-ef86-4f69-9f3e-1592f11e356c",
   "metadata": {},
   "outputs": [],
   "source": [
    "# This will convert 200 minutes to hours by dividing by 60\n",
    "\n"
   ]
  },
  {
   "cell_type": "code",
   "execution_count": 6,
   "id": "c4edf586-69ab-45f0-855e-e9ae915aad5b",
   "metadata": {},
   "outputs": [
    {
     "data": {
      "text/plain": [
       "3.3333333333333335"
      ]
     },
     "execution_count": 6,
     "metadata": {},
     "output_type": "execute_result"
    }
   ],
   "source": [
    "hours = 200 / 60\n",
    "hours\n",
    "\n"
   ]
  },
  {
   "cell_type": "markdown",
   "id": "01ee5202-f2c1-4e09-8c9a-7d4f86c8fcaf",
   "metadata": {},
   "source": [
    "Objectives:\n",
    "\n",
    "List popular languages for Data Science\n",
    "Identify commonly used libraries in Data Science\n",
    "Summarize the Data Science tools and ecosystem"
   ]
  },
  {
   "cell_type": "markdown",
   "id": "459e5d7f-cce2-4b7f-8fea-cf8d620c745b",
   "metadata": {},
   "source": [
    "## Author\r",
    "Dheeraj Dubeye\r\n"
   ]
  },
  {
   "cell_type": "markdown",
   "id": "166b4b13-b027-47ad-a6ee-9fa6c1ccade8",
   "metadata": {},
   "source": [
    "## Author\r",
    "Dheeraj Dubeye\r\n"
   ]
  },
  {
   "cell_type": "markdown",
   "id": "d9a94c65-47e2-41d4-8045-75a2f758d1aa",
   "metadata": {},
   "source": [
    "## Author\r",
    "Dheeraj Dubeye\r\n"
   ]
  }
 ],
 "metadata": {
  "kernelspec": {
   "display_name": "Python 3 (ipykernel)",
   "language": "python",
   "name": "python3"
  },
  "language_info": {
   "codemirror_mode": {
    "name": "ipython",
    "version": 3
   },
   "file_extension": ".py",
   "mimetype": "text/x-python",
   "name": "python",
   "nbconvert_exporter": "python",
   "pygments_lexer": "ipython3",
   "version": "3.11.7"
  }
 },
 "nbformat": 4,
 "nbformat_minor": 5
}
