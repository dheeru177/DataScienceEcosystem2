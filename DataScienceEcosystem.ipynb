{
 "cells": [
  {
   "cell_type": "code",
   "execution_count": null,
   "id": "4197212d-77ac-4f25-a608-c29f99217b93",
   "metadata": {},
   "outputs": [],
   "source": []
  },
  {
   "cell_type": "code",
   "execution_count": null,
   "id": "9e789439-1e63-48a9-aa72-37aa6e0d6318",
   "metadata": {},
   "outputs": [],
   "source": []
  },
  {
   "cell_type": "code",
   "execution_count": null,
   "id": "d5063404-4759-40d3-add2-7a50055adc5c",
   "metadata": {},
   "outputs": [],
   "source": []
  },
  {
   "cell_type": "code",
   "execution_count": null,
   "id": "1fc53e89-f7ae-4d50-b46a-889ab53bb279",
   "metadata": {},
   "outputs": [],
   "source": []
  },
  {
   "cell_type": "markdown",
   "id": "816b679c-c0b0-49da-bd0d-7d08551ff0a5",
   "metadata": {},
   "source": [
    "Data Science Tools and Ecosystem"
   ]
  },
  {
   "cell_type": "markdown",
   "id": "1ea50e9a-1214-4460-b6d8-5af30c539d9a",
   "metadata": {},
   "source": [
    "In this notebook, Data Science Tools and Ecosystem are summarized."
   ]
  },
  {
   "cell_type": "markdown",
   "id": "875e61ba-7fe5-4d47-b4e3-1dffaecad0c9",
   "metadata": {},
   "source": [
    "Some of the popular languages that Data Scientists use are:\n",
    "Python\n",
    "R\n",
    "SQL"
   ]
  },
  {
   "cell_type": "markdown",
   "id": "7c58c47c-56bb-4297-9ee9-b6c486565598",
   "metadata": {},
   "source": [
    "Some of the commonly used libraries used by Data Scientists include:\n",
    "Pandas\r\n",
    "NumPy\r\n",
    "Matplotlib"
   ]
  },
  {
   "cell_type": "markdown",
   "id": "a8b4be97-d152-4c08-b284-3ddede544e6c",
   "metadata": {},
   "source": [
    "Data Science Tools\n",
    "Jupyter Notebook\n",
    "RStudio\n",
    "Spyder "
   ]
  },
  {
   "cell_type": "code",
   "execution_count": 1,
   "id": "14d03466-8d0a-445b-9b2b-54372e8ecd2b",
   "metadata": {},
   "outputs": [
    {
     "ename": "SyntaxError",
     "evalue": "invalid syntax (2796362349.py, line 1)",
     "output_type": "error",
     "traceback": [
      "\u001b[1;36m  Cell \u001b[1;32mIn[1], line 1\u001b[1;36m\u001b[0m\n\u001b[1;33m    Below are a few examples of evaluating arithmetic expressions in Python\u001b[0m\n\u001b[1;37m          ^\u001b[0m\n\u001b[1;31mSyntaxError\u001b[0m\u001b[1;31m:\u001b[0m invalid syntax\n"
     ]
    }
   ],
   "source": [
    "Below are a few examples of evaluating arithmetic expressions in Python"
   ]
  },
  {
   "cell_type": "markdown",
   "id": "6a09a44b-ad46-46de-84c1-6033a97e887c",
   "metadata": {},
   "source": [
    "###Below are a few examples of evaluating arithmetic expressions in Python"
   ]
  },
  {
   "cell_type": "markdown",
   "id": "2ec30690-1e01-4514-9096-ae11439b23ff",
   "metadata": {},
   "source": [
    "This a simple arithmetic expression to mutiply then add integers"
   ]
  },
  {
   "cell_type": "code",
   "execution_count": 2,
   "id": "08197fed-9f9c-4e6a-af08-2ba12634c90e",
   "metadata": {},
   "outputs": [
    {
     "data": {
      "text/plain": [
       "17"
      ]
     },
     "execution_count": 2,
     "metadata": {},
     "output_type": "execute_result"
    }
   ],
   "source": [
    "(3*4)+5\n"
   ]
  },
  {
   "cell_type": "markdown",
   "id": "e7b7c2df-b2d2-4d07-9e97-f052c297f278",
   "metadata": {},
   "source": [
    "This will convert 200 minutes to hours by diving by 60"
   ]
  },
  {
   "cell_type": "code",
   "execution_count": 3,
   "id": "860cf3bf-bbeb-489f-902f-abbbbef9cbc9",
   "metadata": {},
   "outputs": [
    {
     "data": {
      "text/plain": [
       "3.3333333333333335"
      ]
     },
     "execution_count": 3,
     "metadata": {},
     "output_type": "execute_result"
    }
   ],
   "source": [
    "# This will convert 200 minutes to hours by dividing by 60.\n",
    "minutes = 200\n",
    "hours = minutes / 60\n",
    "hours\n"
   ]
  },
  {
   "cell_type": "markdown",
   "id": "4c3f026f-d050-4051-a7c7-152cac2affca",
   "metadata": {},
   "source": [
    "**Objectives:**\r\n",
    "\r\n",
    "- List popular languages for Data Science\r\n",
    "- Introduce common libraries used in Data Science\r\n",
    "- Explore different Data Science tools and ecosystems\r\n",
    "- Demonstrate basic arithmetic expressions in Python\r\n",
    "- Showcase how to execute code cells in a Jupyter Notebook\r\n"
   ]
  },
  {
   "cell_type": "code",
   "execution_count": 4,
   "id": "fe2cf10c-84c9-4766-8f9a-c5488ca0e098",
   "metadata": {},
   "outputs": [
    {
     "ename": "SyntaxError",
     "evalue": "invalid syntax (2587196942.py, line 2)",
     "output_type": "error",
     "traceback": [
      "\u001b[1;36m  Cell \u001b[1;32mIn[4], line 2\u001b[1;36m\u001b[0m\n\u001b[1;33m    Dheeraj Dubey\u001b[0m\n\u001b[1;37m            ^\u001b[0m\n\u001b[1;31mSyntaxError\u001b[0m\u001b[1;31m:\u001b[0m invalid syntax\n"
     ]
    }
   ],
   "source": [
    "## Author\n",
    "Dheeraj Dubey\n"
   ]
  },
  {
   "cell_type": "markdown",
   "id": "247a55ab-780e-43c8-ba09-0bef0faf84d0",
   "metadata": {},
   "source": [
    "## Author\r\n",
    "Your Name\r\n"
   ]
  },
  {
   "cell_type": "code",
   "execution_count": 5,
   "id": "7ea0a946-e1b0-4d30-83fc-1b4f320f8f29",
   "metadata": {},
   "outputs": [
    {
     "ename": "SyntaxError",
     "evalue": "invalid syntax (2587196942.py, line 2)",
     "output_type": "error",
     "traceback": [
      "\u001b[1;36m  Cell \u001b[1;32mIn[5], line 2\u001b[1;36m\u001b[0m\n\u001b[1;33m    Dheeraj Dubey\u001b[0m\n\u001b[1;37m            ^\u001b[0m\n\u001b[1;31mSyntaxError\u001b[0m\u001b[1;31m:\u001b[0m invalid syntax\n"
     ]
    }
   ],
   "source": [
    "## Author\n",
    "Dheeraj Dubey\n"
   ]
  },
  {
   "cell_type": "markdown",
   "id": "d9235dcb-d2e3-4df2-ab14-eee10d3bf997",
   "metadata": {},
   "source": [
    "## Author\n",
    "Dheeraj Dubey\n"
   ]
  },
  {
   "cell_type": "code",
   "execution_count": null,
   "id": "970eca14-9725-4486-bda3-1ad92a36a9c8",
   "metadata": {},
   "outputs": [],
   "source": []
  }
 ],
 "metadata": {
  "kernelspec": {
   "display_name": "Python 3 (ipykernel)",
   "language": "python",
   "name": "python3"
  },
  "language_info": {
   "codemirror_mode": {
    "name": "ipython",
    "version": 3
   },
   "file_extension": ".py",
   "mimetype": "text/x-python",
   "name": "python",
   "nbconvert_exporter": "python",
   "pygments_lexer": "ipython3",
   "version": "3.11.7"
  }
 },
 "nbformat": 4,
 "nbformat_minor": 5
}
